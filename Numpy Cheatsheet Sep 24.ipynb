{
 "cells": [
  {
   "cell_type": "code",
   "execution_count": 314,
   "id": "aad87874-5c5a-4424-a03c-19876442e052",
   "metadata": {},
   "outputs": [],
   "source": [
    "import numpy as np"
   ]
  },
  {
   "cell_type": "markdown",
   "id": "48583237-f95a-4c6c-b4db-b7bacaa37e1b",
   "metadata": {},
   "source": [
    "## Data Types and attributes"
   ]
  },
  {
   "cell_type": "code",
   "execution_count": 315,
   "id": "63181c70-0f8b-4467-a4a7-769ad601c0d8",
   "metadata": {},
   "outputs": [],
   "source": [
    "x = np.array([1, 2, 3])"
   ]
  },
  {
   "cell_type": "code",
   "execution_count": 316,
   "id": "bf6eac6e-b344-43c6-be22-d9a5895ca687",
   "metadata": {},
   "outputs": [],
   "source": [
    "y = np.array([[1, 2, 3],\n",
    "              [4, 5, 6]])"
   ]
  },
  {
   "cell_type": "code",
   "execution_count": 317,
   "id": "eb2292a6-1d4a-47b1-8b1d-1b9898d3a9b6",
   "metadata": {},
   "outputs": [],
   "source": [
    "z = np.array([[[1, 2, 3],\n",
    "               [4, 5, 6],\n",
    "               [7, 8, 9.5]]])"
   ]
  },
  {
   "cell_type": "markdown",
   "id": "d6f98781-f94e-4efc-b334-0b405aac7d01",
   "metadata": {},
   "source": [
    "### Attributes"
   ]
  },
  {
   "cell_type": "code",
   "execution_count": 318,
   "id": "731d0e26-6010-4936-9375-e32ed1f47606",
   "metadata": {},
   "outputs": [
    {
     "data": {
      "text/plain": [
       "((3,), (2, 3), (1, 3, 3))"
      ]
     },
     "execution_count": 318,
     "metadata": {},
     "output_type": "execute_result"
    }
   ],
   "source": [
    "x.shape, y.shape, z.shape"
   ]
  },
  {
   "cell_type": "code",
   "execution_count": 319,
   "id": "a6680cc5-ed18-4bff-880f-ba2e2e5e4982",
   "metadata": {},
   "outputs": [
    {
     "data": {
      "text/plain": [
       "(1, 2, 3)"
      ]
     },
     "execution_count": 319,
     "metadata": {},
     "output_type": "execute_result"
    }
   ],
   "source": [
    "x.ndim, y.ndim, z.ndim"
   ]
  },
  {
   "cell_type": "code",
   "execution_count": 320,
   "id": "2e2ebbb8-2108-4fc5-a91c-b4897e1e6c58",
   "metadata": {},
   "outputs": [
    {
     "data": {
      "text/plain": [
       "(dtype('int32'), dtype('int32'), dtype('float64'))"
      ]
     },
     "execution_count": 320,
     "metadata": {},
     "output_type": "execute_result"
    }
   ],
   "source": [
    "x.dtype, y.dtype, z.dtype"
   ]
  },
  {
   "cell_type": "code",
   "execution_count": 321,
   "id": "78c5f052-75ae-424e-b067-ca86093507be",
   "metadata": {},
   "outputs": [
    {
     "data": {
      "text/plain": [
       "(3, 6, 9)"
      ]
     },
     "execution_count": 321,
     "metadata": {},
     "output_type": "execute_result"
    }
   ],
   "source": [
    "x.size, y.size, z.size"
   ]
  },
  {
   "cell_type": "code",
   "execution_count": 322,
   "id": "84654111-3f95-4b82-9c85-ad2cd709ce1d",
   "metadata": {},
   "outputs": [
    {
     "data": {
      "text/plain": [
       "(numpy.ndarray, numpy.ndarray, numpy.ndarray)"
      ]
     },
     "execution_count": 322,
     "metadata": {},
     "output_type": "execute_result"
    }
   ],
   "source": [
    "type(x), type(y), type(z)"
   ]
  },
  {
   "cell_type": "markdown",
   "id": "2376bccd-7a86-47c6-9192-922fa866f2a0",
   "metadata": {},
   "source": [
    "### Create a Dataframe from a numpy array"
   ]
  },
  {
   "cell_type": "code",
   "execution_count": 323,
   "id": "9500e69e-76d2-47c3-94b8-e1da96d9c711",
   "metadata": {},
   "outputs": [],
   "source": [
    "import pandas as pd"
   ]
  },
  {
   "cell_type": "code",
   "execution_count": 324,
   "id": "898ad853-b8fc-4c8d-96fb-3ba300976438",
   "metadata": {},
   "outputs": [],
   "source": [
    "y2 = pd.DataFrame(y)"
   ]
  },
  {
   "cell_type": "code",
   "execution_count": 325,
   "id": "19f405d8-c762-4404-909b-340a4c814298",
   "metadata": {},
   "outputs": [
    {
     "data": {
      "text/html": [
       "<div>\n",
       "<style scoped>\n",
       "    .dataframe tbody tr th:only-of-type {\n",
       "        vertical-align: middle;\n",
       "    }\n",
       "\n",
       "    .dataframe tbody tr th {\n",
       "        vertical-align: top;\n",
       "    }\n",
       "\n",
       "    .dataframe thead th {\n",
       "        text-align: right;\n",
       "    }\n",
       "</style>\n",
       "<table border=\"1\" class=\"dataframe\">\n",
       "  <thead>\n",
       "    <tr style=\"text-align: right;\">\n",
       "      <th></th>\n",
       "      <th>0</th>\n",
       "      <th>1</th>\n",
       "      <th>2</th>\n",
       "    </tr>\n",
       "  </thead>\n",
       "  <tbody>\n",
       "    <tr>\n",
       "      <th>0</th>\n",
       "      <td>1</td>\n",
       "      <td>2</td>\n",
       "      <td>3</td>\n",
       "    </tr>\n",
       "    <tr>\n",
       "      <th>1</th>\n",
       "      <td>4</td>\n",
       "      <td>5</td>\n",
       "      <td>6</td>\n",
       "    </tr>\n",
       "  </tbody>\n",
       "</table>\n",
       "</div>"
      ],
      "text/plain": [
       "   0  1  2\n",
       "0  1  2  3\n",
       "1  4  5  6"
      ]
     },
     "execution_count": 325,
     "metadata": {},
     "output_type": "execute_result"
    }
   ],
   "source": [
    "y2"
   ]
  },
  {
   "cell_type": "code",
   "execution_count": 326,
   "id": "1afc8ad7-18d3-4db6-9310-8c61f95d1a06",
   "metadata": {},
   "outputs": [
    {
     "data": {
      "text/plain": [
       "pandas.core.frame.DataFrame"
      ]
     },
     "execution_count": 326,
     "metadata": {},
     "output_type": "execute_result"
    }
   ],
   "source": [
    "type(y2)"
   ]
  },
  {
   "cell_type": "markdown",
   "id": "2f8f090f-91fa-49c6-a06c-03c1e3335715",
   "metadata": {},
   "source": [
    "## Creating arrays"
   ]
  },
  {
   "cell_type": "code",
   "execution_count": 327,
   "id": "3905e100-9c91-457d-acc2-81d4607aa3b9",
   "metadata": {},
   "outputs": [],
   "source": [
    "ones = np.ones((5, 3))"
   ]
  },
  {
   "cell_type": "code",
   "execution_count": 328,
   "id": "6a451bb9-e9da-4829-8121-11bcacaea331",
   "metadata": {},
   "outputs": [
    {
     "data": {
      "text/plain": [
       "array([[1., 1., 1.],\n",
       "       [1., 1., 1.],\n",
       "       [1., 1., 1.],\n",
       "       [1., 1., 1.],\n",
       "       [1., 1., 1.]])"
      ]
     },
     "execution_count": 328,
     "metadata": {},
     "output_type": "execute_result"
    }
   ],
   "source": [
    "ones"
   ]
  },
  {
   "cell_type": "code",
   "execution_count": 329,
   "id": "853b94b7-671f-4793-a9e1-8dbf590ce437",
   "metadata": {},
   "outputs": [
    {
     "data": {
      "text/plain": [
       "dtype('float64')"
      ]
     },
     "execution_count": 329,
     "metadata": {},
     "output_type": "execute_result"
    }
   ],
   "source": [
    "ones.dtype"
   ]
  },
  {
   "cell_type": "code",
   "execution_count": 330,
   "id": "47f919c8-a320-4363-a091-a842fbd9db8b",
   "metadata": {},
   "outputs": [
    {
     "data": {
      "text/plain": [
       "numpy.ndarray"
      ]
     },
     "execution_count": 330,
     "metadata": {},
     "output_type": "execute_result"
    }
   ],
   "source": [
    "type(ones)"
   ]
  },
  {
   "cell_type": "code",
   "execution_count": 331,
   "id": "814406dc-c07f-4d74-9a50-5548c157ce79",
   "metadata": {},
   "outputs": [],
   "source": [
    "zeros = np.zeros((5,4))"
   ]
  },
  {
   "cell_type": "code",
   "execution_count": 332,
   "id": "144c8f0c-589c-4d3a-a88b-06c195f887be",
   "metadata": {},
   "outputs": [
    {
     "data": {
      "text/plain": [
       "array([[0., 0., 0., 0.],\n",
       "       [0., 0., 0., 0.],\n",
       "       [0., 0., 0., 0.],\n",
       "       [0., 0., 0., 0.],\n",
       "       [0., 0., 0., 0.]])"
      ]
     },
     "execution_count": 332,
     "metadata": {},
     "output_type": "execute_result"
    }
   ],
   "source": [
    "zeros"
   ]
  },
  {
   "cell_type": "code",
   "execution_count": 333,
   "id": "e6b12b8f-c5ee-4b7a-a2aa-3b3260eb9f1f",
   "metadata": {},
   "outputs": [],
   "source": [
    "range_arrays = np.arange(2, 12, 2)"
   ]
  },
  {
   "cell_type": "code",
   "execution_count": 334,
   "id": "d34fb589-b8ad-4fbd-9a9e-7769a3d1e6fb",
   "metadata": {},
   "outputs": [
    {
     "data": {
      "text/plain": [
       "array([ 2,  4,  6,  8, 10])"
      ]
     },
     "execution_count": 334,
     "metadata": {},
     "output_type": "execute_result"
    }
   ],
   "source": [
    "range_arrays"
   ]
  },
  {
   "cell_type": "code",
   "execution_count": 335,
   "id": "b9a76c42-0e41-4077-b056-afb513fee81b",
   "metadata": {},
   "outputs": [],
   "source": [
    "random_array = np.random.randint(1, 100, 10)"
   ]
  },
  {
   "cell_type": "code",
   "execution_count": 336,
   "id": "97ade50c-3c71-41d8-bbf9-23e1951d30a3",
   "metadata": {},
   "outputs": [
    {
     "data": {
      "text/plain": [
       "array([89, 82, 38, 26, 78, 73, 10, 21, 81, 70])"
      ]
     },
     "execution_count": 336,
     "metadata": {},
     "output_type": "execute_result"
    }
   ],
   "source": [
    "random_array"
   ]
  },
  {
   "cell_type": "code",
   "execution_count": 337,
   "id": "f0a04de2-6a10-4384-b604-3310c063a566",
   "metadata": {},
   "outputs": [],
   "source": [
    "random_array2 = np.random.randint(0, 50, size = (3,8))"
   ]
  },
  {
   "cell_type": "code",
   "execution_count": 338,
   "id": "e30a089e-e58c-4495-a4d9-4ef2d4cdbf27",
   "metadata": {},
   "outputs": [
    {
     "data": {
      "text/plain": [
       "array([[15, 47,  0, 18, 35, 24, 49, 29],\n",
       "       [19, 19, 14, 39, 32,  1,  9, 32],\n",
       "       [31, 10, 23, 35, 11, 28, 34,  0]])"
      ]
     },
     "execution_count": 338,
     "metadata": {},
     "output_type": "execute_result"
    }
   ],
   "source": [
    "random_array2"
   ]
  },
  {
   "cell_type": "code",
   "execution_count": null,
   "id": "6e642364-f45b-46ab-81d3-4ebeb5ee74c3",
   "metadata": {},
   "outputs": [],
   "source": []
  },
  {
   "cell_type": "code",
   "execution_count": 339,
   "id": "21ef7c6c-7964-4d84-8ad7-f71ff27b1c1d",
   "metadata": {},
   "outputs": [],
   "source": [
    "random_array3 = np.random.randint(999, size = (2,2))"
   ]
  },
  {
   "cell_type": "code",
   "execution_count": 340,
   "id": "4431240c-0146-41b3-9e91-abb6467d3f6f",
   "metadata": {},
   "outputs": [
    {
     "data": {
      "text/plain": [
       "array([[128, 932],\n",
       "       [ 53, 901]])"
      ]
     },
     "execution_count": 340,
     "metadata": {},
     "output_type": "execute_result"
    }
   ],
   "source": [
    "random_array3"
   ]
  },
  {
   "cell_type": "code",
   "execution_count": 341,
   "id": "fbc7ed24-7816-44b6-94f2-0d2a24aa2de0",
   "metadata": {},
   "outputs": [
    {
     "data": {
      "text/plain": [
       "(4, (2, 2))"
      ]
     },
     "execution_count": 341,
     "metadata": {},
     "output_type": "execute_result"
    }
   ],
   "source": [
    "random_array3.size, random_array3.shape"
   ]
  },
  {
   "cell_type": "code",
   "execution_count": 342,
   "id": "e28b316a-6a4c-4bc4-89e1-c50f31bec265",
   "metadata": {},
   "outputs": [
    {
     "data": {
      "text/plain": [
       "(numpy.ndarray, dtype('int32'))"
      ]
     },
     "execution_count": 342,
     "metadata": {},
     "output_type": "execute_result"
    }
   ],
   "source": [
    "type(random_array3), random_array3.dtype"
   ]
  },
  {
   "cell_type": "markdown",
   "id": "0b6baaed-9171-464a-954f-79ee81bd4c07",
   "metadata": {},
   "source": [
    "## Pseudo-random numbers"
   ]
  },
  {
   "cell_type": "code",
   "execution_count": 343,
   "id": "d54c3b1c-2f5b-4083-99eb-50110bb5e4c9",
   "metadata": {},
   "outputs": [],
   "source": [
    "#Pseudo-random numbers"
   ]
  },
  {
   "cell_type": "code",
   "execution_count": 344,
   "id": "c71c0be4-c6ab-40f9-be58-a992f30e7894",
   "metadata": {},
   "outputs": [],
   "source": [
    "a = np.random.randint(0, 20, size = (5, 4))"
   ]
  },
  {
   "cell_type": "code",
   "execution_count": 345,
   "id": "60c88f44-345d-4e5c-9745-2eab60b8bef3",
   "metadata": {},
   "outputs": [
    {
     "data": {
      "text/plain": [
       "array([[ 6,  8, 17, 15],\n",
       "       [ 4,  9, 10,  1],\n",
       "       [ 1,  7,  9,  3],\n",
       "       [ 6, 11, 14, 18],\n",
       "       [ 0, 14,  3, 12]])"
      ]
     },
     "execution_count": 345,
     "metadata": {},
     "output_type": "execute_result"
    }
   ],
   "source": [
    "a"
   ]
  },
  {
   "cell_type": "markdown",
   "id": "800818e3-aa27-4e15-a955-238d579b5fa7",
   "metadata": {},
   "source": [
    "### Random Seed"
   ]
  },
  {
   "cell_type": "code",
   "execution_count": 346,
   "id": "2ae75a38-5707-45b6-b660-f0d9c5a163c2",
   "metadata": {},
   "outputs": [],
   "source": [
    "np.random.seed(0)\n",
    "b = np.random.randint(30, size = (6, 4))"
   ]
  },
  {
   "cell_type": "code",
   "execution_count": 347,
   "id": "dd25f25c-67b9-4fa6-b552-730c63fef6a6",
   "metadata": {
    "scrolled": true
   },
   "outputs": [
    {
     "data": {
      "text/plain": [
       "array([[12, 15, 21,  0],\n",
       "       [ 3, 27,  3,  7],\n",
       "       [ 9, 19, 21, 18],\n",
       "       [ 4, 23,  6, 24],\n",
       "       [24, 12, 26,  1],\n",
       "       [ 6,  7, 23, 14]])"
      ]
     },
     "execution_count": 347,
     "metadata": {},
     "output_type": "execute_result"
    }
   ],
   "source": [
    "b"
   ]
  },
  {
   "cell_type": "code",
   "execution_count": 348,
   "id": "b0e73739-df1e-424a-8b26-d6f432d2d170",
   "metadata": {},
   "outputs": [
    {
     "data": {
      "text/plain": [
       "array([ 0,  1,  3,  4,  6,  7,  8,  9, 10, 11, 12, 14, 15, 17, 18])"
      ]
     },
     "execution_count": 348,
     "metadata": {},
     "output_type": "execute_result"
    }
   ],
   "source": [
    "np.unique(a)"
   ]
  },
  {
   "cell_type": "code",
   "execution_count": 349,
   "id": "5ef67406-29e2-4d59-838d-6ec4e079dfc0",
   "metadata": {},
   "outputs": [
    {
     "data": {
      "text/plain": [
       "array([ 0,  1,  3,  4,  6,  7,  9, 12, 14, 15, 18, 19, 21, 23, 24, 26, 27])"
      ]
     },
     "execution_count": 349,
     "metadata": {},
     "output_type": "execute_result"
    }
   ],
   "source": [
    "np.unique(b)"
   ]
  },
  {
   "cell_type": "markdown",
   "id": "822bee7a-561c-4b54-9559-70c1c27b0bdd",
   "metadata": {},
   "source": [
    "## Viewing arrays and Matrices"
   ]
  },
  {
   "cell_type": "code",
   "execution_count": 350,
   "id": "ff319bfd-49f2-4548-990d-ee431db9a230",
   "metadata": {},
   "outputs": [
    {
     "data": {
      "text/plain": [
       "array([ 4,  9, 10,  1])"
      ]
     },
     "execution_count": 350,
     "metadata": {},
     "output_type": "execute_result"
    }
   ],
   "source": [
    "#indexing\n",
    "a[1]"
   ]
  },
  {
   "cell_type": "code",
   "execution_count": 351,
   "id": "651bc6d7-a6df-46f4-af74-4ede8eb0e9d7",
   "metadata": {},
   "outputs": [
    {
     "data": {
      "text/plain": [
       "array([[12, 15, 21,  0],\n",
       "       [ 3, 27,  3,  7],\n",
       "       [ 9, 19, 21, 18],\n",
       "       [ 4, 23,  6, 24],\n",
       "       [24, 12, 26,  1],\n",
       "       [ 6,  7, 23, 14]])"
      ]
     },
     "execution_count": 351,
     "metadata": {},
     "output_type": "execute_result"
    }
   ],
   "source": [
    "b"
   ]
  },
  {
   "cell_type": "code",
   "execution_count": 352,
   "id": "c14edb1b-f6d0-4a14-a5a5-1ac42872951e",
   "metadata": {},
   "outputs": [
    {
     "data": {
      "text/plain": [
       "array([12, 15, 21,  0])"
      ]
     },
     "execution_count": 352,
     "metadata": {},
     "output_type": "execute_result"
    }
   ],
   "source": [
    "b[0]"
   ]
  },
  {
   "cell_type": "code",
   "execution_count": 353,
   "id": "0c10e542-3ff6-48df-89c9-8331fd4ebb00",
   "metadata": {},
   "outputs": [
    {
     "data": {
      "text/plain": [
       "(6, 4)"
      ]
     },
     "execution_count": 353,
     "metadata": {},
     "output_type": "execute_result"
    }
   ],
   "source": [
    "b.shape"
   ]
  },
  {
   "cell_type": "code",
   "execution_count": 354,
   "id": "1f4d8bca-e440-494d-b33c-1ec0f72b7bcd",
   "metadata": {},
   "outputs": [],
   "source": [
    "c = np.random.randint(15, size = (2,2,3,2))"
   ]
  },
  {
   "cell_type": "code",
   "execution_count": 355,
   "id": "0c9cd985-7911-4274-afd6-9e59fcc13ebb",
   "metadata": {
    "scrolled": true
   },
   "outputs": [
    {
     "data": {
      "text/plain": [
       "array([[[[ 8,  1],\n",
       "         [ 5,  9],\n",
       "         [13,  8]],\n",
       "\n",
       "        [[ 9,  4],\n",
       "         [ 3,  0],\n",
       "         [ 3,  5]]],\n",
       "\n",
       "\n",
       "       [[[14,  0],\n",
       "         [ 2,  3],\n",
       "         [ 8,  1]],\n",
       "\n",
       "        [[ 3, 13],\n",
       "         [ 3,  3],\n",
       "         [14,  7]]]])"
      ]
     },
     "execution_count": 355,
     "metadata": {},
     "output_type": "execute_result"
    }
   ],
   "source": [
    "c"
   ]
  },
  {
   "cell_type": "code",
   "execution_count": 356,
   "id": "9e356c2c-47c4-4d6d-8893-941ef9f74aa8",
   "metadata": {},
   "outputs": [
    {
     "data": {
      "text/plain": [
       "((2, 2, 3, 2), 4)"
      ]
     },
     "execution_count": 356,
     "metadata": {},
     "output_type": "execute_result"
    }
   ],
   "source": [
    "c.shape, c.ndim"
   ]
  },
  {
   "cell_type": "code",
   "execution_count": 357,
   "id": "df02e1db-6d6c-4daa-8b9d-b687d873f4f2",
   "metadata": {},
   "outputs": [
    {
     "data": {
      "text/plain": [
       "array([[[[ 8],\n",
       "         [ 5],\n",
       "         [13]],\n",
       "\n",
       "        [[ 9],\n",
       "         [ 3],\n",
       "         [ 3]]],\n",
       "\n",
       "\n",
       "       [[[14],\n",
       "         [ 2],\n",
       "         [ 8]],\n",
       "\n",
       "        [[ 3],\n",
       "         [ 3],\n",
       "         [14]]]])"
      ]
     },
     "execution_count": 357,
     "metadata": {},
     "output_type": "execute_result"
    }
   ],
   "source": [
    "c[:,:,:,:1]"
   ]
  },
  {
   "cell_type": "markdown",
   "id": "4034312d-0f88-47ea-be58-7ed715fe4445",
   "metadata": {},
   "source": [
    "# Manipulating and comparing arrays"
   ]
  },
  {
   "cell_type": "markdown",
   "id": "60fa3254-4c4a-439e-8ed6-eccdef66f3fd",
   "metadata": {},
   "source": [
    "## Arithmetic"
   ]
  },
  {
   "cell_type": "code",
   "execution_count": 358,
   "id": "b05a0bcc-2ef1-478d-9388-913d5476db06",
   "metadata": {},
   "outputs": [
    {
     "data": {
      "text/plain": [
       "array([1, 2, 3])"
      ]
     },
     "execution_count": 358,
     "metadata": {},
     "output_type": "execute_result"
    }
   ],
   "source": [
    "x"
   ]
  },
  {
   "cell_type": "code",
   "execution_count": 359,
   "id": "a34b027b-83f8-4205-a251-5f9d99bc1500",
   "metadata": {},
   "outputs": [
    {
     "data": {
      "text/plain": [
       "array([[1., 1., 1.],\n",
       "       [1., 1., 1.],\n",
       "       [1., 1., 1.],\n",
       "       [1., 1., 1.],\n",
       "       [1., 1., 1.]])"
      ]
     },
     "execution_count": 359,
     "metadata": {},
     "output_type": "execute_result"
    }
   ],
   "source": [
    "ones"
   ]
  },
  {
   "cell_type": "code",
   "execution_count": 360,
   "id": "1447a1ac-fa40-42de-884d-34d523fed7bc",
   "metadata": {},
   "outputs": [],
   "source": [
    "ones = np.ones(3)"
   ]
  },
  {
   "cell_type": "code",
   "execution_count": 361,
   "id": "bbec4d12-e899-45b1-97ad-05d6b4aaf8b8",
   "metadata": {},
   "outputs": [
    {
     "data": {
      "text/plain": [
       "array([1., 1., 1.])"
      ]
     },
     "execution_count": 361,
     "metadata": {},
     "output_type": "execute_result"
    }
   ],
   "source": [
    "ones"
   ]
  },
  {
   "cell_type": "code",
   "execution_count": 362,
   "id": "868accf3-98fe-46fb-9aaa-ddc015965cee",
   "metadata": {},
   "outputs": [
    {
     "data": {
      "text/plain": [
       "(3,)"
      ]
     },
     "execution_count": 362,
     "metadata": {},
     "output_type": "execute_result"
    }
   ],
   "source": [
    "ones.shape"
   ]
  },
  {
   "cell_type": "code",
   "execution_count": 363,
   "id": "c1d86c12-53a0-4947-97cc-d81048acbd66",
   "metadata": {},
   "outputs": [
    {
     "data": {
      "text/plain": [
       "array([1., 2., 3.])"
      ]
     },
     "execution_count": 363,
     "metadata": {},
     "output_type": "execute_result"
    }
   ],
   "source": [
    "x * ones"
   ]
  },
  {
   "cell_type": "code",
   "execution_count": 364,
   "id": "234695ea-9aa8-42b2-96e8-88eb182dd859",
   "metadata": {},
   "outputs": [
    {
     "data": {
      "text/plain": [
       "array([2., 3., 4.])"
      ]
     },
     "execution_count": 364,
     "metadata": {},
     "output_type": "execute_result"
    }
   ],
   "source": [
    "x + ones"
   ]
  },
  {
   "cell_type": "code",
   "execution_count": 365,
   "id": "e2f82013-64e7-4ce9-b116-db3ff4b07185",
   "metadata": {},
   "outputs": [
    {
     "data": {
      "text/plain": [
       "array([0., 1., 2.])"
      ]
     },
     "execution_count": 365,
     "metadata": {},
     "output_type": "execute_result"
    }
   ],
   "source": [
    "x - ones"
   ]
  },
  {
   "cell_type": "code",
   "execution_count": 366,
   "id": "b4cc3bd8-85c6-4824-988a-5fc3bd9eb22a",
   "metadata": {},
   "outputs": [],
   "source": [
    "np.random.seed(seed =0)\n",
    "twos = np.random.randint(10, size = (3))"
   ]
  },
  {
   "cell_type": "code",
   "execution_count": 367,
   "id": "62ff26ea-2b6f-4b79-a920-4019c6149965",
   "metadata": {},
   "outputs": [
    {
     "data": {
      "text/plain": [
       "array([5, 0, 3])"
      ]
     },
     "execution_count": 367,
     "metadata": {},
     "output_type": "execute_result"
    }
   ],
   "source": [
    "twos"
   ]
  },
  {
   "cell_type": "code",
   "execution_count": 368,
   "id": "0d821ad7-7667-4f3e-a123-842c53f0c202",
   "metadata": {},
   "outputs": [
    {
     "data": {
      "text/plain": [
       "array([5, 0, 9])"
      ]
     },
     "execution_count": 368,
     "metadata": {},
     "output_type": "execute_result"
    }
   ],
   "source": [
    "x * twos"
   ]
  },
  {
   "cell_type": "code",
   "execution_count": 369,
   "id": "27e2f5dd-85f2-4cd8-8fb8-9a46325ef128",
   "metadata": {},
   "outputs": [
    {
     "data": {
      "text/plain": [
       "array([6, 2, 6])"
      ]
     },
     "execution_count": 369,
     "metadata": {},
     "output_type": "execute_result"
    }
   ],
   "source": [
    "x + twos"
   ]
  },
  {
   "cell_type": "code",
   "execution_count": 370,
   "id": "85ab2ee9-cf4f-4bdf-8491-e541f13b7adb",
   "metadata": {},
   "outputs": [],
   "source": [
    "d = np.random.randint(10, size = (2, 3))"
   ]
  },
  {
   "cell_type": "code",
   "execution_count": 371,
   "id": "cc72692a-af0e-4ec7-bb48-ea3e221857e6",
   "metadata": {},
   "outputs": [
    {
     "data": {
      "text/plain": [
       "array([[3, 7, 9],\n",
       "       [3, 5, 2]])"
      ]
     },
     "execution_count": 371,
     "metadata": {},
     "output_type": "execute_result"
    }
   ],
   "source": [
    "d"
   ]
  },
  {
   "cell_type": "code",
   "execution_count": 372,
   "id": "23e55f41-4d22-41e5-a10d-a959ac049d46",
   "metadata": {},
   "outputs": [
    {
     "data": {
      "text/plain": [
       "array([[ 3, 14, 27],\n",
       "       [ 3, 10,  6]])"
      ]
     },
     "execution_count": 372,
     "metadata": {},
     "output_type": "execute_result"
    }
   ],
   "source": [
    "x * d"
   ]
  },
  {
   "cell_type": "code",
   "execution_count": 373,
   "id": "a2650c16-a095-439a-a119-46d0e31aecb4",
   "metadata": {},
   "outputs": [
    {
     "data": {
      "text/plain": [
       "array([[3, 3, 3],\n",
       "       [3, 2, 0]])"
      ]
     },
     "execution_count": 373,
     "metadata": {},
     "output_type": "execute_result"
    }
   ],
   "source": [
    "d // x"
   ]
  },
  {
   "cell_type": "code",
   "execution_count": 374,
   "id": "385b02ec-76bf-4338-8c6c-7280d5ad8d0d",
   "metadata": {},
   "outputs": [
    {
     "data": {
      "text/plain": [
       "array([[0, 0, 0],\n",
       "       [0, 0, 1]])"
      ]
     },
     "execution_count": 374,
     "metadata": {},
     "output_type": "execute_result"
    }
   ],
   "source": [
    "x // d"
   ]
  },
  {
   "cell_type": "code",
   "execution_count": 375,
   "id": "f26acf14-f2a3-4251-b084-d7394cb2840d",
   "metadata": {},
   "outputs": [
    {
     "data": {
      "text/plain": [
       "array([[0, 1, 0],\n",
       "       [0, 1, 2]])"
      ]
     },
     "execution_count": 375,
     "metadata": {},
     "output_type": "execute_result"
    }
   ],
   "source": [
    "d % x"
   ]
  },
  {
   "cell_type": "code",
   "execution_count": 376,
   "id": "e242df3b-cc8a-4833-9cc0-9fb0d0f349a8",
   "metadata": {},
   "outputs": [
    {
     "data": {
      "text/plain": [
       "array([1, 4, 9])"
      ]
     },
     "execution_count": 376,
     "metadata": {},
     "output_type": "execute_result"
    }
   ],
   "source": [
    "np.square(x)"
   ]
  },
  {
   "cell_type": "code",
   "execution_count": 377,
   "id": "17e5a075-a7a5-4df4-a6d2-ad845d0dc120",
   "metadata": {},
   "outputs": [
    {
     "data": {
      "text/plain": [
       "array([[ 9, 49, 81],\n",
       "       [ 9, 25,  4]])"
      ]
     },
     "execution_count": 377,
     "metadata": {},
     "output_type": "execute_result"
    }
   ],
   "source": [
    "np.square(d)"
   ]
  },
  {
   "cell_type": "code",
   "execution_count": 378,
   "id": "ec689387-413f-4c6d-98bb-c0b9cb4e03f8",
   "metadata": {},
   "outputs": [
    {
     "data": {
      "text/plain": [
       "array([[1.09861229, 1.94591015, 2.19722458],\n",
       "       [1.09861229, 1.60943791, 0.69314718]])"
      ]
     },
     "execution_count": 378,
     "metadata": {},
     "output_type": "execute_result"
    }
   ],
   "source": [
    "np.log(d)"
   ]
  },
  {
   "cell_type": "markdown",
   "id": "b2933e27-f883-42d6-afef-4b9ebdf1487a",
   "metadata": {},
   "source": [
    "# Aggregation"
   ]
  },
  {
   "cell_type": "code",
   "execution_count": 379,
   "id": "cf85d358-cab5-4ec5-9592-a40444dcfc83",
   "metadata": {},
   "outputs": [],
   "source": [
    "e = np.random.random(1000000)"
   ]
  },
  {
   "cell_type": "code",
   "execution_count": 380,
   "id": "086c3e26-e069-42a8-ad0b-459b38e3035c",
   "metadata": {},
   "outputs": [
    {
     "data": {
      "text/plain": [
       "array([0.43758721, 0.891773  , 0.96366276, 0.38344152, 0.79172504,\n",
       "       0.52889492, 0.56804456, 0.92559664, 0.07103606, 0.0871293 ])"
      ]
     },
     "execution_count": 380,
     "metadata": {},
     "output_type": "execute_result"
    }
   ],
   "source": [
    "e[:10]"
   ]
  },
  {
   "cell_type": "code",
   "execution_count": 381,
   "id": "bfd5cf7e-18f9-417f-a393-03e4714e914b",
   "metadata": {},
   "outputs": [
    {
     "name": "stdout",
     "output_type": "stream",
     "text": [
      "1.93 ms ± 146 μs per loop (mean ± std. dev. of 7 runs, 100 loops each)\n"
     ]
    }
   ],
   "source": [
    "%timeit np.sum(e) #numpy's sum"
   ]
  },
  {
   "cell_type": "code",
   "execution_count": 382,
   "id": "c5ea7762-c681-4337-8c41-e87a15b9e202",
   "metadata": {},
   "outputs": [
    {
     "name": "stdout",
     "output_type": "stream",
     "text": [
      "157 ms ± 7.83 ms per loop (mean ± std. dev. of 7 runs, 10 loops each)\n"
     ]
    }
   ],
   "source": [
    "%timeit sum(e) #Python's sum"
   ]
  },
  {
   "cell_type": "markdown",
   "id": "7ec8834d-f6bc-4b60-b4a5-f81ca706bbd0",
   "metadata": {},
   "source": [
    "## Reshaping and Transposing"
   ]
  },
  {
   "cell_type": "code",
   "execution_count": 383,
   "id": "099e0bdd-e8af-4da6-afee-0d704ccb9913",
   "metadata": {},
   "outputs": [
    {
     "data": {
      "text/plain": [
       "array([1, 2, 3])"
      ]
     },
     "execution_count": 383,
     "metadata": {},
     "output_type": "execute_result"
    }
   ],
   "source": [
    "x"
   ]
  },
  {
   "cell_type": "code",
   "execution_count": 384,
   "id": "b189aa0b-a272-4242-b4f2-e0f5452bd062",
   "metadata": {},
   "outputs": [
    {
     "data": {
      "text/plain": [
       "(array([[1, 2, 3],\n",
       "        [4, 5, 6]]),\n",
       " (2, 3))"
      ]
     },
     "execution_count": 384,
     "metadata": {},
     "output_type": "execute_result"
    }
   ],
   "source": [
    "y, y.shape"
   ]
  },
  {
   "cell_type": "code",
   "execution_count": 385,
   "id": "ae61a319-f36a-4316-b372-127dfeb03ad4",
   "metadata": {},
   "outputs": [
    {
     "data": {
      "text/plain": [
       "(array([[[1. , 2. , 3. ],\n",
       "         [4. , 5. , 6. ],\n",
       "         [7. , 8. , 9.5]]]),\n",
       " (1, 3, 3))"
      ]
     },
     "execution_count": 385,
     "metadata": {},
     "output_type": "execute_result"
    }
   ],
   "source": [
    "z, z.shape"
   ]
  },
  {
   "cell_type": "code",
   "execution_count": 386,
   "id": "4735aff1-0441-4753-929d-b3480eafa642",
   "metadata": {},
   "outputs": [],
   "source": [
    "z2 = z.reshape(9,1,1)"
   ]
  },
  {
   "cell_type": "code",
   "execution_count": 387,
   "id": "0383de25-1d97-4154-8767-7a32cf0eacd8",
   "metadata": {},
   "outputs": [
    {
     "data": {
      "text/plain": [
       "array([[[ 1. ,  2. ,  3. ],\n",
       "        [ 4. ,  5. ,  6. ]],\n",
       "\n",
       "       [[ 2. ,  4. ,  6. ],\n",
       "        [ 8. , 10. , 12. ]],\n",
       "\n",
       "       [[ 3. ,  6. ,  9. ],\n",
       "        [12. , 15. , 18. ]],\n",
       "\n",
       "       [[ 4. ,  8. , 12. ],\n",
       "        [16. , 20. , 24. ]],\n",
       "\n",
       "       [[ 5. , 10. , 15. ],\n",
       "        [20. , 25. , 30. ]],\n",
       "\n",
       "       [[ 6. , 12. , 18. ],\n",
       "        [24. , 30. , 36. ]],\n",
       "\n",
       "       [[ 7. , 14. , 21. ],\n",
       "        [28. , 35. , 42. ]],\n",
       "\n",
       "       [[ 8. , 16. , 24. ],\n",
       "        [32. , 40. , 48. ]],\n",
       "\n",
       "       [[ 9.5, 19. , 28.5],\n",
       "        [38. , 47.5, 57. ]]])"
      ]
     },
     "execution_count": 387,
     "metadata": {},
     "output_type": "execute_result"
    }
   ],
   "source": [
    "z2 * y"
   ]
  },
  {
   "cell_type": "code",
   "execution_count": 388,
   "id": "07a364a8-8931-4973-ad1e-0cda9ece887f",
   "metadata": {},
   "outputs": [
    {
     "data": {
      "text/plain": [
       "(3, 3, 1)"
      ]
     },
     "execution_count": 388,
     "metadata": {},
     "output_type": "execute_result"
    }
   ],
   "source": [
    "z.T.shape"
   ]
  },
  {
   "cell_type": "markdown",
   "id": "efde1933-2336-41f0-8778-50b36abd0f3d",
   "metadata": {},
   "source": [
    "## .dot(product)"
   ]
  },
  {
   "cell_type": "code",
   "execution_count": 389,
   "id": "f4119c22-51fa-4d19-b47c-aaeb554a92eb",
   "metadata": {},
   "outputs": [
    {
     "data": {
      "text/html": [
       "<div>\n",
       "<style scoped>\n",
       "    .dataframe tbody tr th:only-of-type {\n",
       "        vertical-align: middle;\n",
       "    }\n",
       "\n",
       "    .dataframe tbody tr th {\n",
       "        vertical-align: top;\n",
       "    }\n",
       "\n",
       "    .dataframe thead th {\n",
       "        text-align: right;\n",
       "    }\n",
       "</style>\n",
       "<table border=\"1\" class=\"dataframe\">\n",
       "  <thead>\n",
       "    <tr style=\"text-align: right;\">\n",
       "      <th></th>\n",
       "      <th>0</th>\n",
       "      <th>1</th>\n",
       "      <th>2</th>\n",
       "    </tr>\n",
       "  </thead>\n",
       "  <tbody>\n",
       "    <tr>\n",
       "      <th>0</th>\n",
       "      <td>1</td>\n",
       "      <td>2</td>\n",
       "      <td>3</td>\n",
       "    </tr>\n",
       "    <tr>\n",
       "      <th>1</th>\n",
       "      <td>4</td>\n",
       "      <td>5</td>\n",
       "      <td>6</td>\n",
       "    </tr>\n",
       "  </tbody>\n",
       "</table>\n",
       "</div>"
      ],
      "text/plain": [
       "   0  1  2\n",
       "0  1  2  3\n",
       "1  4  5  6"
      ]
     },
     "execution_count": 389,
     "metadata": {},
     "output_type": "execute_result"
    }
   ],
   "source": [
    "y2"
   ]
  },
  {
   "cell_type": "code",
   "execution_count": 390,
   "id": "9132ee4d-4ae3-4bee-93b4-7d0a33c8d104",
   "metadata": {},
   "outputs": [],
   "source": [
    "# Transposing a matrix\n",
    "y2 = y.T"
   ]
  },
  {
   "cell_type": "code",
   "execution_count": 391,
   "id": "59450268-50d9-4c34-a3db-aff868d452bd",
   "metadata": {},
   "outputs": [
    {
     "data": {
      "text/plain": [
       "array([[[1. , 2. , 3. ],\n",
       "        [4. , 5. , 6. ],\n",
       "        [7. , 8. , 9.5]]])"
      ]
     },
     "execution_count": 391,
     "metadata": {},
     "output_type": "execute_result"
    }
   ],
   "source": [
    "z"
   ]
  },
  {
   "cell_type": "code",
   "execution_count": 392,
   "id": "eea90955-4888-4338-8158-886f3e68cda1",
   "metadata": {},
   "outputs": [
    {
     "data": {
      "text/plain": [
       "array([[[ 14. ,  32. ],\n",
       "        [ 32. ,  77. ],\n",
       "        [ 51.5, 125. ]]])"
      ]
     },
     "execution_count": 392,
     "metadata": {},
     "output_type": "execute_result"
    }
   ],
   "source": [
    "z.dot(y2)"
   ]
  },
  {
   "cell_type": "code",
   "execution_count": 393,
   "id": "01d14f7a-2a53-4513-900c-71a861094a88",
   "metadata": {},
   "outputs": [
    {
     "data": {
      "text/plain": [
       "(array([[ 1, 10,  3],\n",
       "        [11,  6,  5],\n",
       "        [ 2,  7, 19],\n",
       "        [ 1, 14, 17],\n",
       "        [ 0,  1,  0]]),\n",
       " (5, 3))"
      ]
     },
     "execution_count": 393,
     "metadata": {},
     "output_type": "execute_result"
    }
   ],
   "source": [
    "f = np.random.randint(20, size=(5,3))\n",
    "f, f.shape"
   ]
  },
  {
   "cell_type": "code",
   "execution_count": 394,
   "id": "6aba8610-2f94-40c4-9b35-765068aed9d8",
   "metadata": {},
   "outputs": [
    {
     "data": {
      "text/plain": [
       "(array([[7, 7, 9],\n",
       "        [2, 3, 2]]),\n",
       " (2, 3))"
      ]
     },
     "execution_count": 394,
     "metadata": {},
     "output_type": "execute_result"
    }
   ],
   "source": [
    "g = np.random.randint(10, size = (2,3))\n",
    "g, g.shape"
   ]
  },
  {
   "cell_type": "code",
   "execution_count": 395,
   "id": "8c356077-b4ad-4776-94c7-b500af332b28",
   "metadata": {},
   "outputs": [
    {
     "data": {
      "text/plain": [
       "(3, 2)"
      ]
     },
     "execution_count": 395,
     "metadata": {},
     "output_type": "execute_result"
    }
   ],
   "source": [
    "g2 = g.T\n",
    "g2.shape"
   ]
  },
  {
   "cell_type": "code",
   "execution_count": 396,
   "id": "5efe38dd-4e44-4187-ab71-d87fbfefd86e",
   "metadata": {},
   "outputs": [
    {
     "data": {
      "text/plain": [
       "array([[104,  38],\n",
       "       [164,  50],\n",
       "       [234,  63],\n",
       "       [258,  78],\n",
       "       [  7,   3]])"
      ]
     },
     "execution_count": 396,
     "metadata": {},
     "output_type": "execute_result"
    }
   ],
   "source": [
    "f.dot(g2)"
   ]
  },
  {
   "cell_type": "code",
   "execution_count": 397,
   "id": "98aa5475-482e-4c9c-bda6-27b3b0965372",
   "metadata": {},
   "outputs": [],
   "source": [
    "f2 = f.T"
   ]
  },
  {
   "cell_type": "code",
   "execution_count": 398,
   "id": "e068ccaf-068f-4483-bb7e-df50286b0944",
   "metadata": {},
   "outputs": [
    {
     "data": {
      "text/plain": [
       "(array([[ 1, 11,  2,  1,  0],\n",
       "        [10,  6,  7, 14,  1],\n",
       "        [ 3,  5, 19, 17,  0]]),\n",
       " (3, 5))"
      ]
     },
     "execution_count": 398,
     "metadata": {},
     "output_type": "execute_result"
    }
   ],
   "source": [
    "f2, f2.shape"
   ]
  },
  {
   "cell_type": "code",
   "execution_count": 399,
   "id": "d5ace2de-23fb-47c0-bf8f-1e7909b31491",
   "metadata": {},
   "outputs": [],
   "source": [
    "h = np.random.randint(10, size = (5,2))"
   ]
  },
  {
   "cell_type": "code",
   "execution_count": 400,
   "id": "7670c062-dea5-45a2-a1ff-b8bf35fca214",
   "metadata": {},
   "outputs": [],
   "source": [
    "product1 = f2.dot(h)"
   ]
  },
  {
   "cell_type": "code",
   "execution_count": 401,
   "id": "f1441e30-f842-45e1-9200-0c574ecd0cc4",
   "metadata": {},
   "outputs": [
    {
     "data": {
      "text/plain": [
       "(array([[ 29,  70],\n",
       "        [115, 197],\n",
       "        [206, 181]]),\n",
       " (3, 2))"
      ]
     },
     "execution_count": 401,
     "metadata": {},
     "output_type": "execute_result"
    }
   ],
   "source": [
    "product1, product1.shape"
   ]
  },
  {
   "cell_type": "markdown",
   "id": "83cebfd1-5ca9-429e-bf80-eccb1ca155fa",
   "metadata": {},
   "source": [
    "# Dot Product Example (product sells)"
   ]
  },
  {
   "cell_type": "code",
   "execution_count": 402,
   "id": "ef92bd61-2ce3-4a13-af30-8c3945bf3017",
   "metadata": {},
   "outputs": [
    {
     "data": {
      "text/plain": [
       "array([[13, 16,  1],\n",
       "       [ 4,  4,  8],\n",
       "       [10, 19,  5],\n",
       "       [ 7, 13,  2],\n",
       "       [ 7,  8, 15]])"
      ]
     },
     "execution_count": 402,
     "metadata": {},
     "output_type": "execute_result"
    }
   ],
   "source": [
    "np.random.seed(seed = 0) \n",
    "product_sales = np.random.randint(1, 20, size = (5,3))\n",
    "product_sales"
   ]
  },
  {
   "cell_type": "code",
   "execution_count": 403,
   "id": "31d39d7f-1d99-4b4e-abb2-4faa20f608ac",
   "metadata": {},
   "outputs": [
    {
     "data": {
      "text/html": [
       "<div>\n",
       "<style scoped>\n",
       "    .dataframe tbody tr th:only-of-type {\n",
       "        vertical-align: middle;\n",
       "    }\n",
       "\n",
       "    .dataframe tbody tr th {\n",
       "        vertical-align: top;\n",
       "    }\n",
       "\n",
       "    .dataframe thead th {\n",
       "        text-align: right;\n",
       "    }\n",
       "</style>\n",
       "<table border=\"1\" class=\"dataframe\">\n",
       "  <thead>\n",
       "    <tr style=\"text-align: right;\">\n",
       "      <th></th>\n",
       "      <th>Peanut</th>\n",
       "      <th>Cashewnuts</th>\n",
       "      <th>Almonds</th>\n",
       "    </tr>\n",
       "  </thead>\n",
       "  <tbody>\n",
       "    <tr>\n",
       "      <th>Mon</th>\n",
       "      <td>13</td>\n",
       "      <td>16</td>\n",
       "      <td>1</td>\n",
       "    </tr>\n",
       "    <tr>\n",
       "      <th>Tue</th>\n",
       "      <td>4</td>\n",
       "      <td>4</td>\n",
       "      <td>8</td>\n",
       "    </tr>\n",
       "    <tr>\n",
       "      <th>Wed</th>\n",
       "      <td>10</td>\n",
       "      <td>19</td>\n",
       "      <td>5</td>\n",
       "    </tr>\n",
       "    <tr>\n",
       "      <th>Thur</th>\n",
       "      <td>7</td>\n",
       "      <td>13</td>\n",
       "      <td>2</td>\n",
       "    </tr>\n",
       "    <tr>\n",
       "      <th>Fri</th>\n",
       "      <td>7</td>\n",
       "      <td>8</td>\n",
       "      <td>15</td>\n",
       "    </tr>\n",
       "  </tbody>\n",
       "</table>\n",
       "</div>"
      ],
      "text/plain": [
       "      Peanut  Cashewnuts  Almonds\n",
       "Mon       13          16        1\n",
       "Tue        4           4        8\n",
       "Wed       10          19        5\n",
       "Thur       7          13        2\n",
       "Fri        7           8       15"
      ]
     },
     "execution_count": 403,
     "metadata": {},
     "output_type": "execute_result"
    }
   ],
   "source": [
    "product_sales_df = pd.DataFrame(product_sales,\n",
    "                                index = ['Mon', 'Tue', 'Wed', 'Thur', 'Fri'],\n",
    "                                columns = ['Peanut', 'Cashewnuts', 'Almonds']\n",
    "                               ) \n",
    "product_sales_df"
   ]
  },
  {
   "cell_type": "code",
   "execution_count": 404,
   "id": "3191494f-71bb-4b0b-82f7-6193a20dcff6",
   "metadata": {},
   "outputs": [
    {
     "data": {
      "text/plain": [
       "(5, 3)"
      ]
     },
     "execution_count": 404,
     "metadata": {},
     "output_type": "execute_result"
    }
   ],
   "source": [
    "product_sales_df.shape"
   ]
  },
  {
   "cell_type": "code",
   "execution_count": 405,
   "id": "94b24905-e890-44a3-b165-1cbfde45fc11",
   "metadata": {},
   "outputs": [
    {
     "data": {
      "text/plain": [
       "(numpy.ndarray, (3,))"
      ]
     },
     "execution_count": 405,
     "metadata": {},
     "output_type": "execute_result"
    }
   ],
   "source": [
    "prices = np.array([10, 8, 12])\n",
    "type(prices), prices.shape\n",
    "\n",
    "# The problem I was facing was because I had written the numbers as strings"
   ]
  },
  {
   "cell_type": "code",
   "execution_count": 406,
   "id": "205c0585-e8c5-4044-8367-f55db551beaf",
   "metadata": {},
   "outputs": [],
   "source": [
    "prices = prices.reshape(1,3)"
   ]
  },
  {
   "cell_type": "code",
   "execution_count": 407,
   "id": "7e0d1924-e945-4e50-954f-ae06a09a5968",
   "metadata": {},
   "outputs": [
    {
     "data": {
      "text/plain": [
       "(1, 3)"
      ]
     },
     "execution_count": 407,
     "metadata": {},
     "output_type": "execute_result"
    }
   ],
   "source": [
    "prices.shape"
   ]
  },
  {
   "cell_type": "code",
   "execution_count": 408,
   "id": "def9a14f-b70c-49c8-9be0-0da7c344462d",
   "metadata": {},
   "outputs": [],
   "source": [
    "prices_df = pd.DataFrame(prices,\n",
    "                         index = ['Price'],\n",
    "                         columns = ['Peanut', 'Cashewnuts', 'Almonds']\n",
    "                        )"
   ]
  },
  {
   "cell_type": "code",
   "execution_count": 409,
   "id": "7ea3a184-b375-4b73-a9ae-20e4d20507d2",
   "metadata": {},
   "outputs": [
    {
     "data": {
      "text/html": [
       "<div>\n",
       "<style scoped>\n",
       "    .dataframe tbody tr th:only-of-type {\n",
       "        vertical-align: middle;\n",
       "    }\n",
       "\n",
       "    .dataframe tbody tr th {\n",
       "        vertical-align: top;\n",
       "    }\n",
       "\n",
       "    .dataframe thead th {\n",
       "        text-align: right;\n",
       "    }\n",
       "</style>\n",
       "<table border=\"1\" class=\"dataframe\">\n",
       "  <thead>\n",
       "    <tr style=\"text-align: right;\">\n",
       "      <th></th>\n",
       "      <th>Peanut</th>\n",
       "      <th>Cashewnuts</th>\n",
       "      <th>Almonds</th>\n",
       "    </tr>\n",
       "  </thead>\n",
       "  <tbody>\n",
       "    <tr>\n",
       "      <th>Price</th>\n",
       "      <td>10</td>\n",
       "      <td>8</td>\n",
       "      <td>12</td>\n",
       "    </tr>\n",
       "  </tbody>\n",
       "</table>\n",
       "</div>"
      ],
      "text/plain": [
       "       Peanut  Cashewnuts  Almonds\n",
       "Price      10           8       12"
      ]
     },
     "execution_count": 409,
     "metadata": {},
     "output_type": "execute_result"
    }
   ],
   "source": [
    "prices_df"
   ]
  },
  {
   "cell_type": "code",
   "execution_count": 410,
   "id": "9691d083-55d9-4b56-8e29-dbe3d56de453",
   "metadata": {},
   "outputs": [
    {
     "data": {
      "text/plain": [
       "((1, 3), (3, 5))"
      ]
     },
     "execution_count": 410,
     "metadata": {},
     "output_type": "execute_result"
    }
   ],
   "source": [
    "prices.shape, product_sales.T.shape"
   ]
  },
  {
   "cell_type": "code",
   "execution_count": 411,
   "id": "06f62294-071b-4711-86f1-b5988e6798b5",
   "metadata": {},
   "outputs": [],
   "source": [
    "total_sales = prices_df.dot(product_sales_df.T)"
   ]
  },
  {
   "cell_type": "code",
   "execution_count": 412,
   "id": "60200d6a-4a77-4ff7-bc7f-e08d421cb222",
   "metadata": {},
   "outputs": [
    {
     "data": {
      "text/html": [
       "<div>\n",
       "<style scoped>\n",
       "    .dataframe tbody tr th:only-of-type {\n",
       "        vertical-align: middle;\n",
       "    }\n",
       "\n",
       "    .dataframe tbody tr th {\n",
       "        vertical-align: top;\n",
       "    }\n",
       "\n",
       "    .dataframe thead th {\n",
       "        text-align: right;\n",
       "    }\n",
       "</style>\n",
       "<table border=\"1\" class=\"dataframe\">\n",
       "  <thead>\n",
       "    <tr style=\"text-align: right;\">\n",
       "      <th></th>\n",
       "      <th>Mon</th>\n",
       "      <th>Tue</th>\n",
       "      <th>Wed</th>\n",
       "      <th>Thur</th>\n",
       "      <th>Fri</th>\n",
       "    </tr>\n",
       "  </thead>\n",
       "  <tbody>\n",
       "    <tr>\n",
       "      <th>Price</th>\n",
       "      <td>270</td>\n",
       "      <td>168</td>\n",
       "      <td>312</td>\n",
       "      <td>198</td>\n",
       "      <td>314</td>\n",
       "    </tr>\n",
       "  </tbody>\n",
       "</table>\n",
       "</div>"
      ],
      "text/plain": [
       "       Mon  Tue  Wed  Thur  Fri\n",
       "Price  270  168  312   198  314"
      ]
     },
     "execution_count": 412,
     "metadata": {},
     "output_type": "execute_result"
    }
   ],
   "source": [
    "total_sales"
   ]
  },
  {
   "cell_type": "code",
   "execution_count": 413,
   "id": "c027cdb5-25ff-4bfb-990c-be0043afd0ce",
   "metadata": {},
   "outputs": [],
   "source": [
    "product_sales_df['Total($)'] = total_sales.T"
   ]
  },
  {
   "cell_type": "code",
   "execution_count": 414,
   "id": "c515df1a-75b6-4570-869f-d437209b0e5a",
   "metadata": {},
   "outputs": [
    {
     "data": {
      "text/html": [
       "<div>\n",
       "<style scoped>\n",
       "    .dataframe tbody tr th:only-of-type {\n",
       "        vertical-align: middle;\n",
       "    }\n",
       "\n",
       "    .dataframe tbody tr th {\n",
       "        vertical-align: top;\n",
       "    }\n",
       "\n",
       "    .dataframe thead th {\n",
       "        text-align: right;\n",
       "    }\n",
       "</style>\n",
       "<table border=\"1\" class=\"dataframe\">\n",
       "  <thead>\n",
       "    <tr style=\"text-align: right;\">\n",
       "      <th></th>\n",
       "      <th>Peanut</th>\n",
       "      <th>Cashewnuts</th>\n",
       "      <th>Almonds</th>\n",
       "      <th>Total($)</th>\n",
       "    </tr>\n",
       "  </thead>\n",
       "  <tbody>\n",
       "    <tr>\n",
       "      <th>Mon</th>\n",
       "      <td>13</td>\n",
       "      <td>16</td>\n",
       "      <td>1</td>\n",
       "      <td>270</td>\n",
       "    </tr>\n",
       "    <tr>\n",
       "      <th>Tue</th>\n",
       "      <td>4</td>\n",
       "      <td>4</td>\n",
       "      <td>8</td>\n",
       "      <td>168</td>\n",
       "    </tr>\n",
       "    <tr>\n",
       "      <th>Wed</th>\n",
       "      <td>10</td>\n",
       "      <td>19</td>\n",
       "      <td>5</td>\n",
       "      <td>312</td>\n",
       "    </tr>\n",
       "    <tr>\n",
       "      <th>Thur</th>\n",
       "      <td>7</td>\n",
       "      <td>13</td>\n",
       "      <td>2</td>\n",
       "      <td>198</td>\n",
       "    </tr>\n",
       "    <tr>\n",
       "      <th>Fri</th>\n",
       "      <td>7</td>\n",
       "      <td>8</td>\n",
       "      <td>15</td>\n",
       "      <td>314</td>\n",
       "    </tr>\n",
       "  </tbody>\n",
       "</table>\n",
       "</div>"
      ],
      "text/plain": [
       "      Peanut  Cashewnuts  Almonds  Total($)\n",
       "Mon       13          16        1       270\n",
       "Tue        4           4        8       168\n",
       "Wed       10          19        5       312\n",
       "Thur       7          13        2       198\n",
       "Fri        7           8       15       314"
      ]
     },
     "execution_count": 414,
     "metadata": {},
     "output_type": "execute_result"
    }
   ],
   "source": [
    "product_sales_df"
   ]
  },
  {
   "cell_type": "markdown",
   "id": "50c1898b-f7cd-4acf-ad5d-32f39dd2932d",
   "metadata": {},
   "source": [
    "# Comparison operators"
   ]
  },
  {
   "cell_type": "code",
   "execution_count": 415,
   "id": "0bfa1735-e515-47e0-901f-213b51176693",
   "metadata": {},
   "outputs": [
    {
     "data": {
      "text/plain": [
       "array([1, 2, 3])"
      ]
     },
     "execution_count": 415,
     "metadata": {},
     "output_type": "execute_result"
    }
   ],
   "source": [
    "x"
   ]
  },
  {
   "cell_type": "code",
   "execution_count": 416,
   "id": "c1fefc5b-1ed8-4857-89a9-026a1db7a64f",
   "metadata": {},
   "outputs": [
    {
     "data": {
      "text/plain": [
       "array([[1, 2, 3],\n",
       "       [4, 5, 6]])"
      ]
     },
     "execution_count": 416,
     "metadata": {},
     "output_type": "execute_result"
    }
   ],
   "source": [
    "y"
   ]
  },
  {
   "cell_type": "code",
   "execution_count": 417,
   "id": "883b7801-63b0-475a-8a01-7aa378150d12",
   "metadata": {},
   "outputs": [
    {
     "data": {
      "text/plain": [
       "array([[False, False, False],\n",
       "       [False, False, False]])"
      ]
     },
     "execution_count": 417,
     "metadata": {},
     "output_type": "execute_result"
    }
   ],
   "source": [
    "x > y"
   ]
  },
  {
   "cell_type": "code",
   "execution_count": 418,
   "id": "e2cec8bd-d2d6-455c-8237-ad828bd6d4bf",
   "metadata": {},
   "outputs": [
    {
     "data": {
      "text/plain": [
       "array([[False, False, False],\n",
       "       [False, False, False]])"
      ]
     },
     "execution_count": 418,
     "metadata": {},
     "output_type": "execute_result"
    }
   ],
   "source": [
    "y < x"
   ]
  },
  {
   "cell_type": "code",
   "execution_count": 420,
   "id": "9e7883c5-e938-44a3-9ec4-0c77b38e518b",
   "metadata": {},
   "outputs": [
    {
     "data": {
      "text/plain": [
       "array([[ True,  True,  True],\n",
       "       [False, False, False]])"
      ]
     },
     "execution_count": 420,
     "metadata": {},
     "output_type": "execute_result"
    }
   ],
   "source": [
    "y == x"
   ]
  },
  {
   "cell_type": "code",
   "execution_count": 421,
   "id": "814a372e-3295-44cb-b8d9-44cada9ac7ca",
   "metadata": {},
   "outputs": [
    {
     "data": {
      "text/plain": [
       "array([[False, False, False],\n",
       "       [ True,  True,  True]])"
      ]
     },
     "execution_count": 421,
     "metadata": {},
     "output_type": "execute_result"
    }
   ],
   "source": [
    "y != x"
   ]
  },
  {
   "cell_type": "markdown",
   "id": "db55dfc6-c237-4c98-9ec9-adb5813d3bbb",
   "metadata": {},
   "source": [
    "# Sorting"
   ]
  },
  {
   "cell_type": "code",
   "execution_count": 425,
   "id": "13119caf-60bd-4d38-acc2-bf6ebdebfac1",
   "metadata": {},
   "outputs": [],
   "source": [
    "np.random.seed(seed = 0)\n",
    "ages = np.random.randint(99, size = (7, 4))"
   ]
  },
  {
   "cell_type": "code",
   "execution_count": 426,
   "id": "b147a993-0fff-45c0-ba0e-c17ca52f1ddc",
   "metadata": {},
   "outputs": [
    {
     "data": {
      "text/plain": [
       "array([[44, 47, 64, 67],\n",
       "       [67,  9, 83, 21],\n",
       "       [36, 87, 70, 88],\n",
       "       [88, 12, 58, 65],\n",
       "       [39, 87, 46, 88],\n",
       "       [81, 37, 25, 77],\n",
       "       [72,  9, 20, 80]])"
      ]
     },
     "execution_count": 426,
     "metadata": {},
     "output_type": "execute_result"
    }
   ],
   "source": [
    "ages"
   ]
  },
  {
   "cell_type": "code",
   "execution_count": 427,
   "id": "55fda106-08e9-4d99-9e91-7a2894edae65",
   "metadata": {},
   "outputs": [
    {
     "data": {
      "text/plain": [
       "array([[44, 47, 64, 67],\n",
       "       [ 9, 21, 67, 83],\n",
       "       [36, 70, 87, 88],\n",
       "       [12, 58, 65, 88],\n",
       "       [39, 46, 87, 88],\n",
       "       [25, 37, 77, 81],\n",
       "       [ 9, 20, 72, 80]])"
      ]
     },
     "execution_count": 427,
     "metadata": {},
     "output_type": "execute_result"
    }
   ],
   "source": [
    "np.sort(ages)"
   ]
  },
  {
   "cell_type": "code",
   "execution_count": 429,
   "id": "347cf371-0bc6-4ab6-bc93-04393f8e4c73",
   "metadata": {},
   "outputs": [
    {
     "data": {
      "text/plain": [
       "array([[0, 1, 2, 3],\n",
       "       [1, 3, 0, 2],\n",
       "       [0, 2, 1, 3],\n",
       "       [1, 2, 3, 0],\n",
       "       [0, 2, 1, 3],\n",
       "       [2, 1, 3, 0],\n",
       "       [1, 2, 0, 3]], dtype=int64)"
      ]
     },
     "execution_count": 429,
     "metadata": {},
     "output_type": "execute_result"
    }
   ],
   "source": [
    "#Sorts the indexes\n",
    "np.argsort(ages)"
   ]
  },
  {
   "cell_type": "code",
   "execution_count": 430,
   "id": "364158f6-bc99-4a7c-98b2-cc7f844f42a4",
   "metadata": {},
   "outputs": [
    {
     "data": {
      "text/plain": [
       "5"
      ]
     },
     "execution_count": 430,
     "metadata": {},
     "output_type": "execute_result"
    }
   ],
   "source": [
    "np.argmin(ages)"
   ]
  },
  {
   "cell_type": "code",
   "execution_count": 431,
   "id": "99f2bce9-40ec-4829-ac62-a40dba23f2fd",
   "metadata": {},
   "outputs": [
    {
     "data": {
      "text/plain": [
       "11"
      ]
     },
     "execution_count": 431,
     "metadata": {},
     "output_type": "execute_result"
    }
   ],
   "source": [
    "np.argmax(ages)"
   ]
  },
  {
   "cell_type": "code",
   "execution_count": 434,
   "id": "1249b25e-9be5-4d5f-80a3-e3aa8b543627",
   "metadata": {},
   "outputs": [
    {
     "data": {
      "text/plain": [
       "array([3, 2, 1, 2], dtype=int64)"
      ]
     },
     "execution_count": 434,
     "metadata": {},
     "output_type": "execute_result"
    }
   ],
   "source": [
    "np.argmax(ages, axis = 0)"
   ]
  },
  {
   "cell_type": "code",
   "execution_count": 435,
   "id": "c2403d73-009c-4891-ade1-2b3c9f080114",
   "metadata": {},
   "outputs": [
    {
     "data": {
      "text/plain": [
       "array([3, 2, 3, 0, 3, 0, 3], dtype=int64)"
      ]
     },
     "execution_count": 435,
     "metadata": {},
     "output_type": "execute_result"
    }
   ],
   "source": [
    "np.argmax(ages, axis = 1)"
   ]
  },
  {
   "cell_type": "code",
   "execution_count": 436,
   "id": "61bd62e1-c7ce-4f40-8c3f-de13175bb8fd",
   "metadata": {},
   "outputs": [
    {
     "data": {
      "text/plain": [
       "array([[44, 47, 64, 67],\n",
       "       [67,  9, 83, 21],\n",
       "       [36, 87, 70, 88],\n",
       "       [88, 12, 58, 65],\n",
       "       [39, 87, 46, 88],\n",
       "       [81, 37, 25, 77],\n",
       "       [72,  9, 20, 80]])"
      ]
     },
     "execution_count": 436,
     "metadata": {},
     "output_type": "execute_result"
    }
   ],
   "source": [
    "ages"
   ]
  },
  {
   "cell_type": "code",
   "execution_count": 438,
   "id": "7705b4c6-49f7-49af-9b09-d644981877ab",
   "metadata": {},
   "outputs": [
    {
     "data": {
      "text/plain": [
       "array([2, 1, 6, 1], dtype=int64)"
      ]
     },
     "execution_count": 438,
     "metadata": {},
     "output_type": "execute_result"
    }
   ],
   "source": [
    "np.argmin(ages, axis = 0)"
   ]
  },
  {
   "cell_type": "markdown",
   "id": "11dc7f6b-227a-4a51-b4d2-358719ef8e40",
   "metadata": {},
   "source": [
    "# Numpy In Action!!!"
   ]
  },
  {
   "cell_type": "markdown",
   "id": "b850e90f-d221-41e1-b0aa-72b711092c96",
   "metadata": {},
   "source": [
    "<img src='76 - numpy-images/panda.png'/>"
   ]
  },
  {
   "cell_type": "code",
   "execution_count": 448,
   "id": "821189a2-d463-4ffa-a343-dbcb6d239ef9",
   "metadata": {},
   "outputs": [],
   "source": [
    "from matplotlib.image import imread"
   ]
  },
  {
   "cell_type": "code",
   "execution_count": 450,
   "id": "8b534407-f05c-4563-935d-9aad188e6ae7",
   "metadata": {},
   "outputs": [],
   "source": [
    "panda = imread('76 - numpy-images/panda.png')"
   ]
  },
  {
   "cell_type": "code",
   "execution_count": 452,
   "id": "b500cf57-98df-482c-a620-904ea4871027",
   "metadata": {},
   "outputs": [
    {
     "data": {
      "text/plain": [
       "dtype('float32')"
      ]
     },
     "execution_count": 452,
     "metadata": {},
     "output_type": "execute_result"
    }
   ],
   "source": [
    "panda.dtype"
   ]
  },
  {
   "cell_type": "code",
   "execution_count": 453,
   "id": "7affe24b-ee86-42b5-977d-55f114032e2a",
   "metadata": {},
   "outputs": [
    {
     "data": {
      "text/plain": [
       "numpy.ndarray"
      ]
     },
     "execution_count": 453,
     "metadata": {},
     "output_type": "execute_result"
    }
   ],
   "source": [
    "type(panda)"
   ]
  },
  {
   "cell_type": "code",
   "execution_count": 456,
   "id": "d4a9fab2-c80f-4478-a0b2-d59a922d695d",
   "metadata": {},
   "outputs": [
    {
     "data": {
      "text/plain": [
       "array([[[0.05490196, 0.10588235, 0.06666667],\n",
       "        [0.05490196, 0.10588235, 0.06666667],\n",
       "        [0.05490196, 0.10588235, 0.06666667],\n",
       "        ...,\n",
       "        [0.16470589, 0.12941177, 0.09411765],\n",
       "        [0.16470589, 0.12941177, 0.09411765],\n",
       "        [0.16470589, 0.12941177, 0.09411765]]], dtype=float32)"
      ]
     },
     "execution_count": 456,
     "metadata": {},
     "output_type": "execute_result"
    }
   ],
   "source": [
    "panda[:1]"
   ]
  },
  {
   "cell_type": "code",
   "execution_count": 458,
   "id": "c1a66b1d-b781-47bb-ad94-f29edc4bb9ce",
   "metadata": {},
   "outputs": [
    {
     "data": {
      "text/plain": [
       "3"
      ]
     },
     "execution_count": 458,
     "metadata": {},
     "output_type": "execute_result"
    }
   ],
   "source": [
    "panda.ndim"
   ]
  },
  {
   "cell_type": "code",
   "execution_count": 459,
   "id": "ef7eea3c-05f0-4739-8d62-35099d86dd3e",
   "metadata": {},
   "outputs": [
    {
     "data": {
      "text/plain": [
       "24465000"
      ]
     },
     "execution_count": 459,
     "metadata": {},
     "output_type": "execute_result"
    }
   ],
   "source": [
    "panda.size"
   ]
  },
  {
   "cell_type": "code",
   "execution_count": 460,
   "id": "85dd607f-12cd-4490-8063-09a78316c0fe",
   "metadata": {},
   "outputs": [
    {
     "data": {
      "text/plain": [
       "3"
      ]
     },
     "execution_count": 460,
     "metadata": {},
     "output_type": "execute_result"
    }
   ],
   "source": []
  },
  {
   "cell_type": "code",
   "execution_count": null,
   "id": "db1f13bf-c198-4d28-93e0-af456359056c",
   "metadata": {},
   "outputs": [],
   "source": []
  }
 ],
 "metadata": {
  "kernelspec": {
   "display_name": "Python 3 (ipykernel)",
   "language": "python",
   "name": "python3"
  },
  "language_info": {
   "codemirror_mode": {
    "name": "ipython",
    "version": 3
   },
   "file_extension": ".py",
   "mimetype": "text/x-python",
   "name": "python",
   "nbconvert_exporter": "python",
   "pygments_lexer": "ipython3",
   "version": "3.12.4"
  }
 },
 "nbformat": 4,
 "nbformat_minor": 5
}
